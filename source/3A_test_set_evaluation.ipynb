{
  "nbformat": 4,
  "nbformat_minor": 0,
  "metadata": {
    "colab": {
      "provenance": [],
      "collapsed_sections": [],
      "toc_visible": true,
      "authorship_tag": "ABX9TyO7WF+SJDqO3GOIBLnJoyB7",
      "include_colab_link": true
    },
    "kernelspec": {
      "name": "python3",
      "display_name": "Python 3"
    },
    "language_info": {
      "name": "python"
    }
  },
  "cells": [
    {
      "cell_type": "markdown",
      "metadata": {
        "id": "view-in-github",
        "colab_type": "text"
      },
      "source": [
        "<a href=\"https://colab.research.google.com/github/WillKWL/Project-NBASeason/blob/master/source/3A_test_set_evaluation.ipynb\" target=\"_parent\"><img src=\"https://colab.research.google.com/assets/colab-badge.svg\" alt=\"Open In Colab\"/></a>"
      ]
    },
    {
      "cell_type": "markdown",
      "source": [
        "# Import libraries"
      ],
      "metadata": {
        "id": "sbeIbD6X4QHr"
      }
    },
    {
      "cell_type": "code",
      "source": [
        "from google.colab import drive, files\n",
        "import os\n",
        "from joblib import load\n",
        "\n",
        "import pandas as pd\n",
        "import numpy as np\n",
        "pd.set_option(\"display.max_rows\", 10)\n",
        "pd.set_option(\"display.max_columns\", None)\n",
        "import matplotlib.pyplot as plt\n",
        "plt.rcParams[\"figure.figsize\"] = [20, 5]\n",
        "import re\n",
        "import copy\n",
        "from datetime import datetime\n",
        "\n",
        "from sklearn.base import BaseEstimator, TransformerMixin\n",
        "from sklearn.compose import make_column_selector, ColumnTransformer\n",
        "from sklearn.cluster import KMeans\n",
        "from sklearn.feature_selection import SelectFromModel\n",
        "from sklearn.linear_model import LogisticRegression\n",
        "from sklearn.metrics import silhouette_score, roc_auc_score, roc_curve, precision_recall_curve, PrecisionRecallDisplay, average_precision_score\n",
        "from sklearn.model_selection import cross_val_score\n",
        "from sklearn.pipeline import make_pipeline\n",
        "from sklearn.preprocessing import QuantileTransformer, MinMaxScaler"
      ],
      "metadata": {
        "id": "5Laqo3mJ_YgQ"
      },
      "execution_count": null,
      "outputs": []
    },
    {
      "cell_type": "code",
      "execution_count": null,
      "metadata": {
        "colab": {
          "base_uri": "https://localhost:8080/"
        },
        "id": "spNMFq2z_HI4",
        "outputId": "25f4560f-b808-485a-b93e-93fa4ac34353"
      },
      "outputs": [
        {
          "output_type": "stream",
          "name": "stdout",
          "text": [
            "Mounted at /content/drive\n"
          ]
        }
      ],
      "source": [
        "drive.mount('/content/drive')\n",
        "os.chdir('/content/drive/MyDrive/Colab Notebooks')"
      ]
    },
    {
      "cell_type": "markdown",
      "source": [
        "# Load environment\n",
        "- load the following to evaluate model performance on test set:\n",
        "  - custom clases,\n",
        "  - functions, \n",
        "  - models dumped after hyperparameter tuning ,\n",
        "  - test set"
      ],
      "metadata": {
        "id": "wRpmirAb4-Y3"
      }
    },
    {
      "cell_type": "markdown",
      "source": [
        "## Custom classes and functions\n",
        "- data preparation pipeline before fitting estimator"
      ],
      "metadata": {
        "id": "ELaNNKmG4TbB"
      }
    },
    {
      "cell_type": "code",
      "source": [
        "# create a custom transformer to fix PFD by replacing it with OPP_PF\n",
        "class FixPF(BaseEstimator, TransformerMixin):\n",
        "  def __init__(self, col_drop, col_replace):\n",
        "    self.col_drop = col_drop\n",
        "    self.col_replace = col_replace\n",
        "  \n",
        "  def fit(self, X, y = None):\n",
        "    return self\n",
        "  \n",
        "  def transform(self, X):\n",
        "    output = copy.deepcopy(X)\n",
        "    output[[self.col_drop]] = output[[self.col_replace]]\n",
        "    self.output_names = output.columns\n",
        "    return output\n",
        "  \n",
        "  def get_feature_names_out(self, names = None):\n",
        "    return self.output_names\n",
        "  \n",
        "# create a custom transformer to drop columns\n",
        "class DropCols(BaseEstimator, TransformerMixin):\n",
        "  def __init__(self, cols_drop):\n",
        "    self.cols_drop = cols_drop\n",
        "  \n",
        "  def fit(self, X, y = None):\n",
        "    # print([x in X.columns for x in self.cols_drop])\n",
        "    return self\n",
        "  \n",
        "  def transform(self, X):\n",
        "    output = copy.deepcopy(X)\n",
        "    output = output.loc[:, [x not in self.cols_drop for x in output.columns]]\n",
        "    self.output_names = output.columns\n",
        "    return output\n",
        "  \n",
        "  def get_feature_names_out(self, names = None):\n",
        "    return self.output_names\n",
        "\n",
        "# create customer transformer to suppress n_quantile <= n_samples warning\n",
        "class MyQuantileTransformer(BaseEstimator, TransformerMixin):\n",
        "  def __init__(self, output_distribution, random_state):\n",
        "    self.output_distribution = output_distribution\n",
        "    self.random_state = random_state\n",
        "  \n",
        "  def fit(self, X, y = None):\n",
        "    self.QuantileTransformer = QuantileTransformer(n_quantiles=min(1000, X.shape[0]), # set this to suppress warning due to small dataset\n",
        "                                                   output_distribution = self.output_distribution,\n",
        "                                                   random_state = self.random_state).fit(X)\n",
        "    return self\n",
        "  \n",
        "  def transform(self, X):\n",
        "    output = copy.deepcopy(X)\n",
        "    output = pd.DataFrame(self.QuantileTransformer.transform(output),\n",
        "                          columns = X.columns)\n",
        "    self.output_names = X.columns\n",
        "    return output\n",
        "  \n",
        "  def get_feature_names_out(self, names = None):\n",
        "    return self.output_names\n",
        "\n",
        "\n",
        "# create customer transformer to pass as df instead of array\n",
        "class MyMinMaxScaler(BaseEstimator, TransformerMixin):\n",
        "  def __init__(self):\n",
        "    pass\n",
        "  \n",
        "  def fit(self, X, y = None):\n",
        "    self.MinMaxScaler_ = MinMaxScaler().fit(X)\n",
        "    return self\n",
        "  \n",
        "  def transform(self, X):\n",
        "    output = copy.deepcopy(X)\n",
        "    output = pd.DataFrame(self.MinMaxScaler_.transform(output),\n",
        "                          columns = X.columns)\n",
        "    self.output_names = X.columns\n",
        "    return output\n",
        "  \n",
        "  def get_feature_names_out(self, names = None):\n",
        "    return self.output_names"
      ],
      "metadata": {
        "id": "xtO8809S_nrP"
      },
      "execution_count": null,
      "outputs": []
    },
    {
      "cell_type": "code",
      "source": [
        "# create a custom transformer to cluster nba seasons into era\n",
        "class SeasonSimilarity(BaseEstimator, TransformerMixin):\n",
        "  def __init__(self, n_clusters = 3, random_state = None, best_silh = False):\n",
        "    self.n_clusters = n_clusters\n",
        "    self.random_state = random_state\n",
        "    self.best_silh = best_silh\n",
        "  \n",
        "  def fit(self, X, y = None, sample_weight = None, plot_silh = False):\n",
        "    self.feature_names_in_ = X.columns.values\n",
        "    self.index_names = X.sort_index().index.values\n",
        "    \n",
        "    # find best k number of clusters based on silhouette score\n",
        "    if self.best_silh:\n",
        "      # test performance with silhouette score (distance from one's center and from other centers) from 2 to 10 clusters\n",
        "      # don't consider tuning k as hyperparameter because silhouette score is more intuitive\n",
        "      # e.g. clustering based on records from 1996 to 2022 (full range) vs clustering based on records from 2010 to 2022 (1st fold)\n",
        "      k_range = np.arange(2,11,1)\n",
        "      silh_scores = []\n",
        "      for k in range(2,11):\n",
        "        self.n_clusters = k\n",
        "        self.kmeans_ = KMeans(self.n_clusters, random_state=self.random_state)\n",
        "        self.kmeans_.fit(X, sample_weight=sample_weight)\n",
        "        silh_scores.append(silhouette_score(X, self.kmeans_.labels_))\n",
        "      \n",
        "      max_k = k_range[np.argmax(silh_scores)]\n",
        "      max_silh = max(silh_scores)\n",
        "      self.n_clusters = max_k    \n",
        "\n",
        "      # plot silhouette scores for 2 - 10 clusters\n",
        "      if plot_silh:\n",
        "        plt.plot(k_range, silh_scores)\n",
        "        plt.xlabel(\"Number of clusters\")\n",
        "        plt.ylabel(\"Silhouette score\")\n",
        "        plt.title(f\"optimal no. of cluster = {max_k}, silhouette score = {max_silh:0.4f}\")\n",
        "        plt.show()\n",
        "    \n",
        "    self.kmeans_ = KMeans(self.n_clusters, random_state=self.random_state)\n",
        "    self.kmeans_.fit(X, sample_weight=sample_weight)\n",
        "    return self\n",
        "  \n",
        "  def transform(self, X):\n",
        "    # Soft Clustering: each column = distance to cluster i\n",
        "    X_clusterdist = pd.DataFrame(self.kmeans_.transform(X),\n",
        "                                 columns=[f\"ERA_{i}\" for i in range(self.n_clusters)])\n",
        "    # Scaling: Quantile transform the cluster distances like other numerical columns\n",
        "    # X_clusterdist = pd.DataFrame(MyQuantileTransformer(output_distribution=\"normal\", random_state=42).fit_transform(X_clusterdist),\n",
        "    #                              columns=[f\"ERA_{i}\" for i in range(self.n_clusters)])\n",
        "    # Scaling: MinMaxScale transform the cluster distances like other numerical columns\n",
        "    X_clusterdist = pd.DataFrame(MyMinMaxScaler().fit_transform(X_clusterdist),\n",
        "                                 columns=[f\"ERA_{i}\" for i in range(self.n_clusters)])\n",
        "    # merge with numerical columns to return\n",
        "    output = pd.concat([X, X_clusterdist], axis=1)\n",
        "    self.output_features = output.columns.values\n",
        "    return output\n",
        "  \n",
        "  def get_feature_names_out(self, names = None):\n",
        "    return self.output_features"
      ],
      "metadata": {
        "id": "RThS0rodcXJh"
      },
      "execution_count": null,
      "outputs": []
    },
    {
      "cell_type": "markdown",
      "source": [
        "## Models after hyperparameter tuning"
      ],
      "metadata": {
        "id": "EnxbtUOO4YKi"
      }
    },
    {
      "cell_type": "code",
      "source": [
        "tuned_models = {}\n",
        "time_list = []\n",
        "time_diff = []\n",
        "match_pattern = '_tuned_AP_class_balanced_(\\w+).joblib'\n",
        "\n",
        "for time in [re.search(match_pattern, x).group(1) for x in os.listdir() if re.search(match_pattern, x) is not None]:\n",
        "  time_diff.append(datetime.now() - datetime.strptime(time, \"%Y%m%d_%H%M%S\"))\n",
        "  time_list.append(time)\n",
        "\n",
        "latest = time_list[np.argmin(time_diff)]\n",
        "for file in [x for x in os.listdir() if (re.search(match_pattern, x) is not None) and latest in x]:\n",
        "  model = load(file)\n",
        "  tuned_models[model.best_estimator_.steps[-1][0]] = model\n",
        "  print(model.best_estimator_.steps[-1][0], \"class balanced AP loaded\")"
      ],
      "metadata": {
        "colab": {
          "base_uri": "https://localhost:8080/"
        },
        "id": "SuSNZuyL_em3",
        "outputId": "012ca5e5-a262-42a9-984a-44490b04f260"
      },
      "execution_count": null,
      "outputs": [
        {
          "output_type": "stream",
          "name": "stdout",
          "text": [
            "xgb ADASYN AP loaded\n",
            "forest ADASYN AP loaded\n",
            "xgbrf ADASYN AP loaded\n",
            "svc ADASYN AP loaded\n",
            "sgd ADASYN AP loaded\n"
          ]
        }
      ]
    },
    {
      "cell_type": "code",
      "source": [
        "# pull the CV AP results from RandomizedSearchCV\n",
        "tuned_AP = []\n",
        "for clf_name, model in tuned_models.items():\n",
        "  # tuned_AP.append(cross_val_score(model.best_estimator_, season, y_test, cv = 10, scoring='average_precision'))\n",
        "  cv_AP_colindex = [i for i, x in enumerate(model.cv_results_.keys()) if re.search('split\\w+_test_score', x) is not None]\n",
        "  tuned_AP.append(pd.DataFrame(model.cv_results_).iloc[model.best_index_,cv_AP_colindex].values)"
      ],
      "metadata": {
        "id": "0K3LcKAZ_kWL"
      },
      "execution_count": null,
      "outputs": []
    },
    {
      "cell_type": "code",
      "source": [
        "# sort the models and plot the spread of CV AP scores\n",
        "mean_tuned_AP = [np.mean(AP) for AP in tuned_AP]\n",
        "sorted_tuned_AP = [i for _, i in sorted(zip(mean_tuned_AP, tuned_AP), reverse = True)]\n",
        "sorted_tuned_clf = [i for _, i in sorted(zip(mean_tuned_AP, tuned_models.keys()), reverse = True)]"
      ],
      "metadata": {
        "id": "Glej3R5WAipy"
      },
      "execution_count": null,
      "outputs": []
    },
    {
      "cell_type": "code",
      "source": [
        "plt.boxplot(sorted_tuned_AP, labels=sorted_tuned_clf)\n",
        "# add dots for CV AP scores\n",
        "for i, AP in enumerate(sorted_tuned_AP):\n",
        "  plt.plot([i+1]*len(AP), AP, \".\")\n",
        "  plt.annotate(f\"mean = {np.mean(AP):0.4f}\\nsd = {np.std(AP):0.4f}\",(i+1, 0.7), ha = 'center', va = 'center')\n",
        "\n",
        "plt.plot([*range(1,len(sorted_tuned_AP)+1,1)], sorted(mean_tuned_AP, reverse=True), \n",
        "         \"ks\", label = 'mean CV AP after tuning')\n",
        "plt.legend()\n",
        "plt.title(f\"Models sorted by 10-fold cross validation average precision score (after hyperparameter tuning)\")\n",
        "plt.xlabel(\"Models\")\n",
        "plt.ylim(0,1)\n",
        "plt.ylabel(\"CV Average Precision score\")\n",
        "plt.show()"
      ],
      "metadata": {
        "colab": {
          "base_uri": "https://localhost:8080/",
          "height": 350
        },
        "id": "xL7bLBVnAoo5",
        "outputId": "1b77d7ab-b884-468c-bb33-4080db848168"
      },
      "execution_count": null,
      "outputs": [
        {
          "output_type": "display_data",
          "data": {
            "text/plain": [
              "<Figure size 1440x360 with 1 Axes>"
            ],
            "image/png": "[encoded data removed]"
          },
          "metadata": {
            "needs_background": "light"
          }
        }
      ]
    },
    {
      "cell_type": "markdown",
      "source": [
        "## Pick best model"
      ],
      "metadata": {
        "id": "9pCM1Txz6vLM"
      }
    },
    {
      "cell_type": "code",
      "source": [
        "best_model = tuned_models['sgd'].best_estimator_"
      ],
      "metadata": {
        "id": "gQPKRV_5X6iE"
      },
      "execution_count": null,
      "outputs": []
    },
    {
      "cell_type": "code",
      "source": [
        "best_model"
      ],
      "metadata": {
        "colab": {
          "base_uri": "https://localhost:8080/"
        },
        "id": "pd7ll5Glbntu",
        "outputId": "8afd9449-5a57-43b4-ba3c-8ab523fd60bd"
      },
      "execution_count": null,
      "outputs": [
        {
          "output_type": "execute_result",
          "data": {
            "text/plain": [
              "Pipeline(steps=[('columntransformer',\n",
              "                 ColumnTransformer(transformers=[('num',\n",
              "                                                  Pipeline(steps=[('fixpf',\n",
              "                                                                   FixPF(col_drop='PFD',\n",
              "                                                                         col_replace='OPP_PF')),\n",
              "                                                                  ('dropcols',\n",
              "                                                                   DropCols(cols_drop=['GP',\n",
              "                                                                                       'W',\n",
              "                                                                                       'L',\n",
              "                                                                                       'W_PCT',\n",
              "                                                                                       'MIN',\n",
              "                                                                                       'FGM',\n",
              "                                                                                       'FG3M',\n",
              "                                                                                       'FTM',\n",
              "                                                                                       'OPP_FGM',\n",
              "                                                                                       'OPP_FG3M',\n",
              "                                                                                       'OPP_FTM',\n",
              "                                                                                       'REB',\n",
              "                                                                                       'PLUS_MINUS',\n",
              "                                                                                       'OFF_RATING',\n",
              "                                                                                       'DEF_RATING',\n",
              "                                                                                       'NET_RATING',\n",
              "                                                                                       'PACE_PER40',\n",
              "                                                                                       'POSS',\n",
              "                                                                                       'PIE'])),\n",
              "                                                                  ('myminma...\n",
              "                                   verbose_feature_names_out=False)),\n",
              "                ('selectfrommodel',\n",
              "                 SelectFromModel(estimator=LogisticRegression(C=2.744568806348263,\n",
              "                                                              penalty='l1',\n",
              "                                                              random_state=42,\n",
              "                                                              solver='liblinear'))),\n",
              "                ('sgd',\n",
              "                 SGDClassifier(alpha=0.02208270498902507,\n",
              "                               class_weight='balanced',\n",
              "                               eta0=0.004532161058999155,\n",
              "                               l1_ratio=0.1550416167277442,\n",
              "                               learning_rate='adaptive', loss='log',\n",
              "                               penalty='elasticnet', random_state=42))])"
            ]
          },
          "metadata": {},
          "execution_count": 19
        }
      ]
    },
    {
      "cell_type": "markdown",
      "source": [
        "## Test set"
      ],
      "metadata": {
        "id": "Cm4Bd3vN415H"
      }
    },
    {
      "cell_type": "code",
      "source": [
        "test_set = pd.read_pickle(\"https://github.com/WillKWL/PublicData/blob/main/raw/nba_pre_all_star_vs_playoff_test_comprehensive.pkl?raw=true\")\n",
        "# make a copy and split X and y\n",
        "X_test = test_set.drop(columns = \"PLAYOFF_RANKING\").reset_index(drop = True).copy(deep = True)\n",
        "y_test = test_set[[\"PLAYOFF_RANKING\"]].values.reshape(-1,)"
      ],
      "metadata": {
        "id": "mrcgYfOFBPVl"
      },
      "execution_count": null,
      "outputs": []
    },
    {
      "cell_type": "code",
      "source": [
        "X_test.shape"
      ],
      "metadata": {
        "colab": {
          "base_uri": "https://localhost:8080/"
        },
        "id": "CGNJx6E2lsbx",
        "outputId": "7161bf47-242c-49db-de11-2177e102c45c"
      },
      "execution_count": null,
      "outputs": [
        {
          "output_type": "execute_result",
          "data": {
            "text/plain": [
              "(143, 96)"
            ]
          },
          "metadata": {},
          "execution_count": 21
        }
      ]
    },
    {
      "cell_type": "markdown",
      "source": [
        "## Predicted Probabilities\n",
        "- right-skewed distribution due to class imbalance"
      ],
      "metadata": {
        "id": "vfzTyeAooL8w"
      }
    },
    {
      "cell_type": "code",
      "source": [
        "# prediction\n",
        "y_probs = best_model.predict_proba(X_test)[:,1]"
      ],
      "metadata": {
        "id": "vfdM7YiIq6e6"
      },
      "execution_count": null,
      "outputs": []
    },
    {
      "cell_type": "code",
      "source": [
        "fig, ax = plt.subplots(1,1)\n",
        "ax.hist(y_probs, bins = 20)\n",
        "for rect in ax.patches:\n",
        "    height = rect.get_height()\n",
        "    ax.annotate(f\"{height:0.0f}\",\n",
        "                xy=(rect.get_x() + rect.get_width() / 2, height/2),\n",
        "                xytext=(0, 0),  # 3 points vertical offset\n",
        "                textcoords=\"offset points\",\n",
        "                color = 'white',\n",
        "                ha='center', va='center')\n",
        "plt.xlim(0,1)\n",
        "plt.xticks(np.arange(0,1.1,0.1))\n",
        "plt.xlabel(\"Predicted Probability\")\n",
        "plt.ylabel(\"Count\")\n",
        "plt.title(\"Right-skewed distribution of predicted probability due to class-imbalance\")\n",
        "plt.show()"
      ],
      "metadata": {
        "colab": {
          "base_uri": "https://localhost:8080/",
          "height": 350
        },
        "id": "Zc8QAa-um9OE",
        "outputId": "3e82cac1-067f-40d1-d868-f5247fcb474b"
      },
      "execution_count": null,
      "outputs": [
        {
          "output_type": "display_data",
          "data": {
            "text/plain": [
              "<Figure size 1440x360 with 1 Axes>"
            ],
            "image/png": "[encoded data removed]"
          },
          "metadata": {
            "needs_background": "light"
          }
        }
      ]
    },
    {
      "cell_type": "markdown",
      "source": [
        "# Performance evaluation"
      ],
      "metadata": {
        "id": "2jvrjqMi5apZ"
      }
    },
    {
      "cell_type": "markdown",
      "source": [
        "## Precision-Recall curve\n",
        "- Prefer precision-recall over ROC curve\n",
        "  - For imbalanced data, precision-recall curve provides a more accurate picture on TP, while ROC curve can be too optimistic due to TN\n",
        "- Precision > Recall\n",
        "  - As a team manager or as a fan, precision of the prediction matters more than recall"
      ],
      "metadata": {
        "id": "Z7fDDlK-4kTj"
      }
    },
    {
      "cell_type": "code",
      "source": [
        "# due to class imbalance, the thresholds for high precision become really sparse -> difficult to decide a decision threshold \n",
        "# using over-sampling or SMOTE didn't help in high-dimensional data (no near neighbors in high dimension)\n",
        "\n",
        "precisions, recalls, thresholds = precision_recall_curve(y_test, y_probs)\n",
        "plt.plot(thresholds, precisions[:-1], 'b--o', label = \"Precision\", linewidth = 2)\n",
        "plt.plot(thresholds, recalls[:-1], \"g--o\", label = \"Recall\", linewidth = 2)\n",
        "plt.xlabel(\"Threshold\")\n",
        "plt.ylim(0,1)\n",
        "plt.axhline(0.8, ls='--', c='k', alpha=0.5)\n",
        "plt.title(\"Probability cutoff for 80% precision\")\n",
        "plt.legend()\n",
        "plt.show()"
      ],
      "metadata": {
        "colab": {
          "base_uri": "https://localhost:8080/",
          "height": 350
        },
        "id": "x14a7fGbhuCT",
        "outputId": "302f6311-f969-4a0d-e3cc-99f731a7d770"
      },
      "execution_count": null,
      "outputs": [
        {
          "output_type": "display_data",
          "data": {
            "text/plain": [
              "<Figure size 1440x360 with 1 Axes>"
            ],
            "image/png": "[encoded data removed]"
          },
          "metadata": {
            "needs_background": "light"
          }
        }
      ]
    },
    {
      "cell_type": "code",
      "source": [
        "PrecisionRecallDisplay(precision=precisions, recall=recalls).plot()\n",
        "plt.xlim(0,1)\n",
        "plt.ylim(0,1)\n",
        "plt.title(f\"Average Precision (AUPRC) = {average_precision_score(y_test, y_probs):0.4f}\")\n",
        "plt.show()"
      ],
      "metadata": {
        "id": "Ts4zC6Ip0L0z",
        "colab": {
          "base_uri": "https://localhost:8080/",
          "height": 350
        },
        "outputId": "4755027f-18b7-4fc1-feee-6ad217b9f437"
      },
      "execution_count": null,
      "outputs": [
        {
          "output_type": "display_data",
          "data": {
            "text/plain": [
              "<Figure size 1440x360 with 1 Axes>"
            ],
            "image/png": "[encoded data removed]"
          },
          "metadata": {
            "needs_background": "light"
          }
        }
      ]
    },
    {
      "cell_type": "markdown",
      "source": [
        "## Average Precision\n",
        "- Average precision = area under precision-recall curve\n",
        "  - [sklearn documentation](https://scikit-learn.org/stable/modules/generated/sklearn.metrics.average_precision_score.html#sklearn.metrics.average_precision_score)"
      ],
      "metadata": {
        "id": "uijuloxQrOVK"
      }
    },
    {
      "cell_type": "code",
      "source": [
        "CV_model = tuned_models[best_model.steps[-1][0]]\n",
        "cv_result = pd.DataFrame(CV_model.cv_results_)\n",
        "cv_AP_colindex = [i for i, x in enumerate(cv_result.columns.values) if re.search('split\\w+_test_score', x) is not None]\n",
        "best_CV_AP = pd.DataFrame(CV_model.cv_results_).iloc[CV_model.best_index_,cv_AP_colindex].values"
      ],
      "metadata": {
        "id": "ulpO0wb4rnd1"
      },
      "execution_count": null,
      "outputs": []
    },
    {
      "cell_type": "code",
      "source": [
        "# plot CV AP scores on train set\n",
        "plt.boxplot(best_CV_AP, labels = [\"\"], vert=False)\n",
        "plt.plot(best_CV_AP, [1]*len(best_CV_AP), \".\", label='CV AP in train set')\n",
        "plt.annotate(f\"train set CV AP\\n\" + \n",
        "             f\"mean = {np.mean(best_CV_AP):0.4f}\\n\" + \n",
        "             f\"sd = {np.std(best_CV_AP):0.4f}\\n\" + \n",
        "             f\"min = {np.min(best_CV_AP):0.4f}\\n\" + \n",
        "             f\"max = {np.max(best_CV_AP):0.4f}\",\n",
        "             (np.median(best_CV_AP), 0.8), \n",
        "              ha = 'center', va = 'top')\n",
        "plt.plot(np.mean(best_CV_AP), [1], \"ks\", label = 'mean CV AP in train set')\n",
        "\n",
        "# compare with AP score on test set\n",
        "test_AP = average_precision_score(y_test, y_probs)\n",
        "plt.plot(test_AP, [1], \"rs\", label = 'AP in test set')\n",
        "plt.annotate(f\"test set AP= {test_AP:0.4f}\",(test_AP, 0.8), \n",
        "              ha = 'center', va = 'top')\n",
        "\n",
        "plt.legend()\n",
        "plt.title(f\"Model performance evaluation on test set (vs 10-fold CV on train set)\")\n",
        "plt.xlabel(\"ROC AP score\")\n",
        "# plt.xlim(0.5,1)\n",
        "plt.ylabel(\"\")\n",
        "plt.yticks([])\n",
        "plt.show()"
      ],
      "metadata": {
        "colab": {
          "base_uri": "https://localhost:8080/",
          "height": 350
        },
        "id": "h7gldoY1rQcS",
        "outputId": "a38a38cc-e692-4561-b521-ebd3d0aade6f"
      },
      "execution_count": null,
      "outputs": [
        {
          "output_type": "display_data",
          "data": {
            "text/plain": [
              "<Figure size 1440x360 with 1 Axes>"
            ],
            "image/png": "[encoded data removed]"
          },
          "metadata": {
            "needs_background": "light"
          }
        }
      ]
    },
    {
      "cell_type": "markdown",
      "source": [
        "## Lift and gain chart"
      ],
      "metadata": {
        "id": "-dEsBlxN4lfq"
      }
    },
    {
      "cell_type": "code",
      "source": [
        "temp_df = pd.DataFrame({\n",
        "    'y': y_test,\n",
        "    'prob': y_probs\n",
        "})\n",
        "temp_df.sort_values('prob', ascending=False, inplace=True)\n",
        "temp_df['decile'] = pd.qcut(temp_df['prob'],10,labels=[i for i in np.arange(10,0,-1)])"
      ],
      "metadata": {
        "id": "dpaO3U9fEMJ2"
      },
      "execution_count": null,
      "outputs": []
    },
    {
      "cell_type": "code",
      "source": [
        "lift_n_gain = temp_df.groupby('decile').agg({'y': ['sum']}).sort_index(ascending=False)\n",
        "lift_n_gain.columns = ['sum_of_positive_cases_identified']\n",
        "lift_n_gain['gain'] = lift_n_gain[['sum_of_positive_cases_identified']].apply(lambda x: x.cumsum() / x.sum())\n",
        "lift_n_gain['lift'] = lift_n_gain['gain'] / (lift_n_gain.index.values.astype(int) / 10)"
      ],
      "metadata": {
        "id": "RHtp38L2E2sA"
      },
      "execution_count": null,
      "outputs": []
    },
    {
      "cell_type": "code",
      "source": [
        "lift_n_gain"
      ],
      "metadata": {
        "colab": {
          "base_uri": "https://localhost:8080/",
          "height": 394
        },
        "id": "lh-5iAbYNHHX",
        "outputId": "ace09a73-9aa0-413e-9bbe-51ad5e4beec1"
      },
      "execution_count": null,
      "outputs": [
        {
          "output_type": "execute_result",
          "data": {
            "text/plain": [
              "        sum_of_positive_cases_identified  gain      lift\n",
              "decile                                                  \n",
              "1                                      3   0.6  6.000000\n",
              "2                                      1   0.8  4.000000\n",
              "3                                      0   0.8  2.666667\n",
              "4                                      0   0.8  2.000000\n",
              "5                                      0   0.8  1.600000\n",
              "6                                      1   1.0  1.666667\n",
              "7                                      0   1.0  1.428571\n",
              "8                                      0   1.0  1.250000\n",
              "9                                      0   1.0  1.111111\n",
              "10                                     0   1.0  1.000000"
            ],
            "text/html": [
              "\n",
              "  <div id=\"df-e6f85a94-830d-4097-aa8e-c7080ab974c2\">\n",
              "    <div class=\"colab-df-container\">\n",
              "      <div>\n",
              "<style scoped>\n",
              "    .dataframe tbody tr th:only-of-type {\n",
              "        vertical-align: middle;\n",
              "    }\n",
              "\n",
              "    .dataframe tbody tr th {\n",
              "        vertical-align: top;\n",
              "    }\n",
              "\n",
              "    .dataframe thead th {\n",
              "        text-align: right;\n",
              "    }\n",
              "</style>\n",
              "<table border=\"1\" class=\"dataframe\">\n",
              "  <thead>\n",
              "    <tr style=\"text-align: right;\">\n",
              "      <th></th>\n",
              "      <th>sum_of_positive_cases_identified</th>\n",
              "      <th>gain</th>\n",
              "      <th>lift</th>\n",
              "    </tr>\n",
              "    <tr>\n",
              "      <th>decile</th>\n",
              "      <th></th>\n",
              "      <th></th>\n",
              "      <th></th>\n",
              "    </tr>\n",
              "  </thead>\n",
              "  <tbody>\n",
              "    <tr>\n",
              "      <th>1</th>\n",
              "      <td>3</td>\n",
              "      <td>0.6</td>\n",
              "      <td>6.000000</td>\n",
              "    </tr>\n",
              "    <tr>\n",
              "      <th>2</th>\n",
              "      <td>1</td>\n",
              "      <td>0.8</td>\n",
              "      <td>4.000000</td>\n",
              "    </tr>\n",
              "    <tr>\n",
              "      <th>3</th>\n",
              "      <td>0</td>\n",
              "      <td>0.8</td>\n",
              "      <td>2.666667</td>\n",
              "    </tr>\n",
              "    <tr>\n",
              "      <th>4</th>\n",
              "      <td>0</td>\n",
              "      <td>0.8</td>\n",
              "      <td>2.000000</td>\n",
              "    </tr>\n",
              "    <tr>\n",
              "      <th>5</th>\n",
              "      <td>0</td>\n",
              "      <td>0.8</td>\n",
              "      <td>1.600000</td>\n",
              "    </tr>\n",
              "    <tr>\n",
              "      <th>6</th>\n",
              "      <td>1</td>\n",
              "      <td>1.0</td>\n",
              "      <td>1.666667</td>\n",
              "    </tr>\n",
              "    <tr>\n",
              "      <th>7</th>\n",
              "      <td>0</td>\n",
              "      <td>1.0</td>\n",
              "      <td>1.428571</td>\n",
              "    </tr>\n",
              "    <tr>\n",
              "      <th>8</th>\n",
              "      <td>0</td>\n",
              "      <td>1.0</td>\n",
              "      <td>1.250000</td>\n",
              "    </tr>\n",
              "    <tr>\n",
              "      <th>9</th>\n",
              "      <td>0</td>\n",
              "      <td>1.0</td>\n",
              "      <td>1.111111</td>\n",
              "    </tr>\n",
              "    <tr>\n",
              "      <th>10</th>\n",
              "      <td>0</td>\n",
              "      <td>1.0</td>\n",
              "      <td>1.000000</td>\n",
              "    </tr>\n",
              "  </tbody>\n",
              "</table>\n",
              "</div>\n",
              "      <button class=\"colab-df-convert\" onclick=\"convertToInteractive('df-e6f85a94-830d-4097-aa8e-c7080ab974c2')\"\n",
              "              title=\"Convert this dataframe to an interactive table.\"\n",
              "              style=\"display:none;\">\n",
              "        \n",
              "  <svg xmlns=\"http://www.w3.org/2000/svg\" height=\"24px\"viewBox=\"0 0 24 24\"\n",
              "       width=\"24px\">\n",
              "    <path d=\"M0 0h24v24H0V0z\" fill=\"none\"/>\n",
              "    <path d=\"M18.56 5.44l.94 2.06.94-2.06 2.06-.94-2.06-.94-.94-2.06-.94 2.06-2.06.94zm-11 1L8.5 8.5l.94-2.06 2.06-.94-2.06-.94L8.5 2.5l-.94 2.06-2.06.94zm10 10l.94 2.06.94-2.06 2.06-.94-2.06-.94-.94-2.06-.94 2.06-2.06.94z\"/><path d=\"M17.41 7.96l-1.37-1.37c-.4-.4-.92-.59-1.43-.59-.52 0-1.04.2-1.43.59L10.3 9.45l-7.72 7.72c-.78.78-.78 2.05 0 2.83L4 21.41c.39.39.9.59 1.41.59.51 0 1.02-.2 1.41-.59l7.78-7.78 2.81-2.81c.8-.78.8-2.07 0-2.86zM5.41 20L4 18.59l7.72-7.72 1.47 1.35L5.41 20z\"/>\n",
              "  </svg>\n",
              "      </button>\n",
              "      \n",
              "  <style>\n",
              "    .colab-df-container {\n",
              "      display:flex;\n",
              "      flex-wrap:wrap;\n",
              "      gap: 12px;\n",
              "    }\n",
              "\n",
              "    .colab-df-convert {\n",
              "      background-color: #E8F0FE;\n",
              "      border: none;\n",
              "      border-radius: 50%;\n",
              "      cursor: pointer;\n",
              "      display: none;\n",
              "      fill: #1967D2;\n",
              "      height: 32px;\n",
              "      padding: 0 0 0 0;\n",
              "      width: 32px;\n",
              "    }\n",
              "\n",
              "    .colab-df-convert:hover {\n",
              "      background-color: #E2EBFA;\n",
              "      box-shadow: 0px 1px 2px rgba(60, 64, 67, 0.3), 0px 1px 3px 1px rgba(60, 64, 67, 0.15);\n",
              "      fill: #174EA6;\n",
              "    }\n",
              "\n",
              "    [theme=dark] .colab-df-convert {\n",
              "      background-color: #3B4455;\n",
              "      fill: #D2E3FC;\n",
              "    }\n",
              "\n",
              "    [theme=dark] .colab-df-convert:hover {\n",
              "      background-color: #434B5C;\n",
              "      box-shadow: 0px 1px 3px 1px rgba(0, 0, 0, 0.15);\n",
              "      filter: drop-shadow(0px 1px 2px rgba(0, 0, 0, 0.3));\n",
              "      fill: #FFFFFF;\n",
              "    }\n",
              "  </style>\n",
              "\n",
              "      <script>\n",
              "        const buttonEl =\n",
              "          document.querySelector('#df-e6f85a94-830d-4097-aa8e-c7080ab974c2 button.colab-df-convert');\n",
              "        buttonEl.style.display =\n",
              "          google.colab.kernel.accessAllowed ? 'block' : 'none';\n",
              "\n",
              "        async function convertToInteractive(key) {\n",
              "          const element = document.querySelector('#df-e6f85a94-830d-4097-aa8e-c7080ab974c2');\n",
              "          const dataTable =\n",
              "            await google.colab.kernel.invokeFunction('convertToInteractive',\n",
              "                                                     [key], {});\n",
              "          if (!dataTable) return;\n",
              "\n",
              "          const docLinkHtml = 'Like what you see? Visit the ' +\n",
              "            '<a target=\"_blank\" href=https://colab.research.google.com/notebooks/data_table.ipynb>data table notebook</a>'\n",
              "            + ' to learn more about interactive tables.';\n",
              "          element.innerHTML = '';\n",
              "          dataTable['output_type'] = 'display_data';\n",
              "          await google.colab.output.renderOutput(dataTable, element);\n",
              "          const docLink = document.createElement('div');\n",
              "          docLink.innerHTML = docLinkHtml;\n",
              "          element.appendChild(docLink);\n",
              "        }\n",
              "      </script>\n",
              "    </div>\n",
              "  </div>\n",
              "  "
            ]
          },
          "metadata": {},
          "execution_count": 30
        }
      ]
    },
    {
      "cell_type": "code",
      "source": [
        "fig, axes = plt.subplots(1,2)\n",
        "axes[0].plot(np.arange(1,11,1), lift_n_gain['gain'].values, 'bo-')\n",
        "axes[1].plot(np.arange(1,11,1), lift_n_gain['lift'].values, 'bo-')\n",
        "axes[0].set_title('Gain chart')\n",
        "axes[1].set_title('Lift chart')\n",
        "for ax in axes:\n",
        "  ax.set_xticks(np.arange(1,11,1))\n",
        "  ax.set_xlabel(\"Decile\")\n",
        "plt.show()"
      ],
      "metadata": {
        "colab": {
          "base_uri": "https://localhost:8080/",
          "height": 350
        },
        "id": "_yHyMZz6JDp4",
        "outputId": "31870f6e-3263-48b3-e18b-22f8b6464953"
      },
      "execution_count": null,
      "outputs": [
        {
          "output_type": "display_data",
          "data": {
            "text/plain": [
              "<Figure size 1440x360 with 2 Axes>"
            ],
            "image/png": "[encoded data removed]"
          },
          "metadata": {
            "needs_background": "light"
          }
        }
      ]
    },
    {
      "cell_type": "markdown",
      "source": [
        "## Coefficients"
      ],
      "metadata": {
        "id": "9QA4pyPXrIs0"
      }
    },
    {
      "cell_type": "code",
      "source": [
        "# original features\n",
        "features_in = X_test.columns.values # cannot use features_in here since data_cleaning pipeline is wrapped in SeasonSimilarity instead of part of data_preparation pipeline\n",
        "print(f\"Number of original features: \\n{len(X_test.columns.values)}\")\n",
        "print(features_in, \"\\n\")\n",
        "\n",
        "# sparse features after feature selection with L1 penalty in data_preparation pipeline\n",
        "features_out = best_model[:-1].get_feature_names_out() \n",
        "print(f\"Number of features after feature engineering, scaling and selection: \\n{len(features_out)}\")\n",
        "print(features_out, \"\\n\")\n",
        "\n",
        "# non-zero (signficant) features after regularization in fitting estimator\n",
        "try:\n",
        "  coef = best_model.steps[-1][1].feature_importances_\n",
        "except:\n",
        "  coef = best_model.steps[-1][1].coef_[0]\n",
        "print(f\"Number of features after fitting estimator with regularization: \\n{np.count_nonzero(coef)}\")\n",
        "features_non_zero = [features_out[loc] for loc in np.nonzero(coef)[0]]\n",
        "coef_non_zero = [np.around(coef[loc], decimals=4) for loc in np.nonzero(coef)[0]]\n",
        "print(f\"features = {[feature_ for _, feature_ in sorted(zip(np.abs(coef_non_zero), features_non_zero), reverse=True)]}\")\n",
        "print(f\"coefficient = {[coef_ for _, coef_ in sorted(zip(np.abs(coef_non_zero), coef_non_zero), reverse=True)]}\")\n",
        "\n",
        "abs_coef = np.abs(coef)\n",
        "fig, ax = plt.subplots(1,1)\n",
        "top_n = 10\n",
        "for i, (_, coef, name) in enumerate(sorted(zip(abs_coef, coef, features_out), reverse=True)[:top_n]):\n",
        "  ax.bar(name, coef)\n",
        "for rect in ax.patches:\n",
        "    height = rect.get_height()\n",
        "    ax.annotate(f\"{height:0.4f}\",\n",
        "                xy=(rect.get_x() + rect.get_width() / 2, height/2),\n",
        "                xytext=(0, 0),  # 3 points vertical offset\n",
        "                textcoords=\"offset points\",\n",
        "                color = 'white',\n",
        "                ha='center', va='center')\n",
        "plt.title(f\"Top {top_n} features to win an NBA championship\")\n",
        "plt.ylabel(\"Coefficients\")\n",
        "plt.show()"
      ],
      "metadata": {
        "colab": {
          "base_uri": "https://localhost:8080/",
          "height": 886
        },
        "id": "T8KI2Y4irOQM",
        "outputId": "b147c235-ca75-4c4c-8f63-a5fe55d4176b"
      },
      "execution_count": null,
      "outputs": [
        {
          "output_type": "stream",
          "name": "stdout",
          "text": [
            "Number of original features: \n",
            "96\n",
            "['TEAM_ID' 'TEAM_NAME' 'GP' 'W' 'L' 'W_PCT' 'MIN' 'FGM' 'FGA' 'FG_PCT'\n",
            " 'FG3M' 'FG3A' 'FG3_PCT' 'FTM' 'FTA' 'FT_PCT' 'OREB' 'DREB' 'REB' 'AST'\n",
            " 'TOV' 'STL' 'BLK' 'BLKA' 'PF' 'PFD' 'PTS' 'PLUS_MINUS' 'CFID' 'CFPARAMS'\n",
            " 'AST_PCT' 'AST_RATIO' 'AST_TO' 'DEF_RATING' 'DREB_PCT' 'EFG_PCT'\n",
            " 'NET_RATING' 'OFF_RATING' 'OREB_PCT' 'PACE' 'PACE_PER40' 'PIE' 'POSS'\n",
            " 'REB_PCT' 'TM_TOV_PCT' 'TS_PCT' 'OPP_PTS_2ND_CHANCE' 'OPP_PTS_FB'\n",
            " 'OPP_PTS_OFF_TOV' 'OPP_PTS_PAINT' 'PTS_2ND_CHANCE' 'PTS_FB' 'PTS_OFF_TOV'\n",
            " 'PTS_PAINT' 'FTA_RATE' 'OPP_EFG_PCT' 'OPP_FTA_RATE' 'OPP_OREB_PCT'\n",
            " 'OPP_TOV_PCT' 'PCT_AST_2PM' 'PCT_AST_3PM' 'PCT_AST_FGM' 'PCT_FGA_2PT'\n",
            " 'PCT_FGA_3PT' 'PCT_PTS_2PT' 'PCT_PTS_2PT_MR' 'PCT_PTS_3PT' 'PCT_PTS_FB'\n",
            " 'PCT_PTS_FT' 'PCT_PTS_OFF_TOV' 'PCT_PTS_PAINT' 'PCT_UAST_2PM'\n",
            " 'PCT_UAST_3PM' 'PCT_UAST_FGM' 'OPP_AST' 'OPP_BLK' 'OPP_BLKA' 'OPP_DREB'\n",
            " 'OPP_FG3A' 'OPP_FG3M' 'OPP_FG3_PCT' 'OPP_FGA' 'OPP_FGM' 'OPP_FG_PCT'\n",
            " 'OPP_FTA' 'OPP_FTM' 'OPP_FT_PCT' 'OPP_OREB' 'OPP_PF' 'OPP_PFD' 'OPP_PTS'\n",
            " 'OPP_REB' 'OPP_STL' 'OPP_TOV' 'SEASON' 'UNIQUE_ID'] \n",
            "\n",
            "Number of features after feature engineering, scaling and selection: \n",
            "20\n",
            "['FG_PCT' 'FT_PCT' 'TOV' 'BLKA' 'PTS' 'AST_TO' 'TM_TOV_PCT'\n",
            " 'PTS_2ND_CHANCE' 'PTS_OFF_TOV' 'PTS_PAINT' 'OPP_EFG_PCT' 'PCT_PTS_FT'\n",
            " 'PCT_UAST_3PM' 'OPP_AST' 'OPP_BLK' 'OPP_DREB' 'OPP_FG_PCT' 'OPP_FTA'\n",
            " 'OPP_PTS' 'ERA_0'] \n",
            "\n",
            "Number of features after fitting estimator with regularization: \n",
            "19\n",
            "features = ['FG_PCT', 'PTS', 'OPP_FG_PCT', 'OPP_PTS', 'OPP_AST', 'AST_TO', 'OPP_BLK', 'BLKA', 'OPP_EFG_PCT', 'PTS_PAINT', 'PTS_OFF_TOV', 'OPP_DREB', 'FT_PCT', 'OPP_FTA', 'PCT_PTS_FT', 'PCT_UAST_3PM', 'TOV', 'TM_TOV_PCT', 'PTS_2ND_CHANCE']\n",
            "coefficient = [1.2548, 0.8616, -0.8166, -0.7017, -0.6934, 0.6632, -0.6602, -0.6602, -0.6381, 0.6322, 0.4932, -0.4478, -0.2871, -0.2778, -0.2758, -0.2245, -0.1152, -0.1152, 0.074]\n"
          ]
        },
        {
          "output_type": "display_data",
          "data": {
            "text/plain": [
              "<Figure size 1440x360 with 1 Axes>"
            ],
            "image/png": "[encoded data removed]"
          },
          "metadata": {
            "needs_background": "light"
          }
        }
      ]
    },
    {
      "cell_type": "markdown",
      "source": [
        "## Confusion matrix"
      ],
      "metadata": {
        "id": "ENWkwJvq4jLE"
      }
    },
    {
      "cell_type": "code",
      "source": [
        "from sklearn.metrics import precision_score, recall_score, confusion_matrix, classification_report"
      ],
      "metadata": {
        "id": "2cH76rz-hMX-"
      },
      "execution_count": null,
      "outputs": []
    },
    {
      "cell_type": "code",
      "source": [
        "# to achieve a precision of 80% or more\n",
        "precision_pct = 0.8"
      ],
      "metadata": {
        "id": "AWLiZNAyhLec"
      },
      "execution_count": null,
      "outputs": []
    },
    {
      "cell_type": "code",
      "source": [
        "# due to class imbalance in a small test set, \n",
        "# the threshold intervals are so sparse that it becomes hard to achieve exactly 80%\n",
        "idx_for_chosen_precision = (precisions >= precision_pct).argmax()\n",
        "chosen_threshold = thresholds[idx_for_chosen_precision]\n",
        "y_predict = (best_model.predict_proba(X_test)[:,1] >= chosen_threshold)\n",
        "print(classification_report(y_test, y_predict))"
      ],
      "metadata": {
        "colab": {
          "base_uri": "https://localhost:8080/"
        },
        "id": "-SJL2bAGf6m2",
        "outputId": "de942ec3-dae7-42cf-8681-0eeec36d8214"
      },
      "execution_count": null,
      "outputs": [
        {
          "output_type": "stream",
          "name": "stdout",
          "text": [
            "              precision    recall  f1-score   support\n",
            "\n",
            "           0       0.97      1.00      0.99       138\n",
            "           1       1.00      0.20      0.33         5\n",
            "\n",
            "    accuracy                           0.97       143\n",
            "   macro avg       0.99      0.60      0.66       143\n",
            "weighted avg       0.97      0.97      0.96       143\n",
            "\n"
          ]
        }
      ]
    },
    {
      "cell_type": "code",
      "source": [
        "# only 1 instance was predicted and correctly identified as positive (winning a championship)\n",
        "confusion_matrix(y_test, y_predict)"
      ],
      "metadata": {
        "colab": {
          "base_uri": "https://localhost:8080/"
        },
        "id": "wq0LsTsYsUNW",
        "outputId": "8484fe6d-2122-42d8-a5cf-4abc481215b0"
      },
      "execution_count": null,
      "outputs": [
        {
          "output_type": "execute_result",
          "data": {
            "text/plain": [
              "array([[138,   0],\n",
              "       [  4,   1]])"
            ]
          },
          "metadata": {},
          "execution_count": 36
        }
      ]
    },
    {
      "cell_type": "markdown",
      "source": [
        "## ROC curve and AUC score\n",
        "- ROC AUC score is high but it is overly optimistic given it replaces precision in precision-recall curve with False Positive Rate\n",
        "- With class imbalance in our dataset, the importance of True Negatives is exaggerated in ROC AUC curve"
      ],
      "metadata": {
        "id": "uIs83gpa4ecb"
      }
    },
    {
      "cell_type": "code",
      "source": [
        "fpr, tpr, thresholds = roc_curve(y_test, y_probs)\n",
        "plt.figure(figsize=(5, 5))\n",
        "plt.plot(fpr, tpr, linewidth = 2, label = f\"logistic regression\")\n",
        "plt.plot([0,1], [0,1], 'k:', label = \"AUC 0.5000 / random guess\")\n",
        "plt.xlim(0,1)\n",
        "plt.ylim(0,1)\n",
        "plt.title(f\"ROC AUC = {roc_auc_score(y_test, y_probs):0.4f}\")\n",
        "plt.xlabel(\"False Positive Rate\")\n",
        "plt.ylabel(\"True Positive Rate\")\n",
        "plt.legend()\n",
        "\n",
        "plt.show()"
      ],
      "metadata": {
        "colab": {
          "base_uri": "https://localhost:8080/",
          "height": 350
        },
        "id": "eH3DB2xZa38k",
        "outputId": "ff744a3b-1d89-450a-ec39-45bb8a3db15a"
      },
      "execution_count": null,
      "outputs": [
        {
          "output_type": "display_data",
          "data": {
            "text/plain": [
              "<Figure size 360x360 with 1 Axes>"
            ],
            "image/png": "[encoded data removed]"
          },
          "metadata": {
            "needs_background": "light"
          }
        }
      ]
    },
    {
      "cell_type": "markdown",
      "source": [
        "## Most probable champions in full dataset"
      ],
      "metadata": {
        "id": "c4fqLqQQdzy7"
      }
    },
    {
      "cell_type": "code",
      "source": [
        "train_set = pd.read_pickle(\"https://github.com/WillKWL/PublicData/blob/main/raw/nba_pre_all_star_vs_playoff_train_comprehensive.pkl?raw=true\")"
      ],
      "metadata": {
        "id": "jrgdcaZ-gqZ9"
      },
      "execution_count": null,
      "outputs": []
    },
    {
      "cell_type": "code",
      "source": [
        "full_set = pd.concat([train_set, test_set])"
      ],
      "metadata": {
        "id": "EM7hvjyDgx7Q"
      },
      "execution_count": null,
      "outputs": []
    },
    {
      "cell_type": "code",
      "source": [
        "X_full = full_set.drop(columns = \"PLAYOFF_RANKING\").reset_index(drop = True).copy(deep = True)\n",
        "y_full = full_set[['PLAYOFF_RANKING']].copy()"
      ],
      "metadata": {
        "id": "LU3C0narg6YT"
      },
      "execution_count": null,
      "outputs": []
    },
    {
      "cell_type": "code",
      "source": [
        "# ranking players and teams by probability of winning a championship\n",
        "most_probable = full_set.iloc[best_model.predict_proba(X_full)[:,1].argsort()[::-1],][['TEAM_NAME','SEASON',\"PLAYOFF_RANKING\"]]\n",
        "most_probable['prob'] = sorted(best_model.predict_proba(X_full)[:,1], reverse=True)\n",
        "most_probable = most_probable.loc[most_probable['PLAYOFF_RANKING'] == 0]\n",
        "most_probable.head(10)"
      ],
      "metadata": {
        "colab": {
          "base_uri": "https://localhost:8080/",
          "height": 363
        },
        "id": "6WX2GI7icKMW",
        "outputId": "2b7f4e37-e5b3-4de3-dd96-462620829ebb"
      },
      "execution_count": null,
      "outputs": [
        {
          "output_type": "execute_result",
          "data": {
            "text/plain": [
              "                 TEAM_NAME   SEASON PLAYOFF_RANKING      prob\n",
              "567      San Antonio Spurs  2015-16               0  0.791641\n",
              "584  Golden State Warriors  2015-16               0  0.787582\n",
              "248             Miami Heat  2004-05               0  0.738128\n",
              "330           Phoenix Suns  2007-08               0  0.729235\n",
              "517             Miami Heat  2013-14               0  0.724849\n",
              "271           Phoenix Suns  2005-06               0  0.722167\n",
              "684        Milwaukee Bucks  2019-20               0  0.721477\n",
              "750           Phoenix Suns  2021-22               0  0.720531\n",
              "300           Phoenix Suns  2006-07               0  0.713994\n",
              "428         Boston Celtics  2010-11               0  0.707664"
            ],
            "text/html": [
              "\n",
              "  <div id=\"df-3153575e-4603-4d9a-afa0-b84518552bca\">\n",
              "    <div class=\"colab-df-container\">\n",
              "      <div>\n",
              "<style scoped>\n",
              "    .dataframe tbody tr th:only-of-type {\n",
              "        vertical-align: middle;\n",
              "    }\n",
              "\n",
              "    .dataframe tbody tr th {\n",
              "        vertical-align: top;\n",
              "    }\n",
              "\n",
              "    .dataframe thead th {\n",
              "        text-align: right;\n",
              "    }\n",
              "</style>\n",
              "<table border=\"1\" class=\"dataframe\">\n",
              "  <thead>\n",
              "    <tr style=\"text-align: right;\">\n",
              "      <th></th>\n",
              "      <th>TEAM_NAME</th>\n",
              "      <th>SEASON</th>\n",
              "      <th>PLAYOFF_RANKING</th>\n",
              "      <th>prob</th>\n",
              "    </tr>\n",
              "  </thead>\n",
              "  <tbody>\n",
              "    <tr>\n",
              "      <th>567</th>\n",
              "      <td>San Antonio Spurs</td>\n",
              "      <td>2015-16</td>\n",
              "      <td>0</td>\n",
              "      <td>0.791641</td>\n",
              "    </tr>\n",
              "    <tr>\n",
              "      <th>584</th>\n",
              "      <td>Golden State Warriors</td>\n",
              "      <td>2015-16</td>\n",
              "      <td>0</td>\n",
              "      <td>0.787582</td>\n",
              "    </tr>\n",
              "    <tr>\n",
              "      <th>248</th>\n",
              "      <td>Miami Heat</td>\n",
              "      <td>2004-05</td>\n",
              "      <td>0</td>\n",
              "      <td>0.738128</td>\n",
              "    </tr>\n",
              "    <tr>\n",
              "      <th>330</th>\n",
              "      <td>Phoenix Suns</td>\n",
              "      <td>2007-08</td>\n",
              "      <td>0</td>\n",
              "      <td>0.729235</td>\n",
              "    </tr>\n",
              "    <tr>\n",
              "      <th>517</th>\n",
              "      <td>Miami Heat</td>\n",
              "      <td>2013-14</td>\n",
              "      <td>0</td>\n",
              "      <td>0.724849</td>\n",
              "    </tr>\n",
              "    <tr>\n",
              "      <th>271</th>\n",
              "      <td>Phoenix Suns</td>\n",
              "      <td>2005-06</td>\n",
              "      <td>0</td>\n",
              "      <td>0.722167</td>\n",
              "    </tr>\n",
              "    <tr>\n",
              "      <th>684</th>\n",
              "      <td>Milwaukee Bucks</td>\n",
              "      <td>2019-20</td>\n",
              "      <td>0</td>\n",
              "      <td>0.721477</td>\n",
              "    </tr>\n",
              "    <tr>\n",
              "      <th>750</th>\n",
              "      <td>Phoenix Suns</td>\n",
              "      <td>2021-22</td>\n",
              "      <td>0</td>\n",
              "      <td>0.720531</td>\n",
              "    </tr>\n",
              "    <tr>\n",
              "      <th>300</th>\n",
              "      <td>Phoenix Suns</td>\n",
              "      <td>2006-07</td>\n",
              "      <td>0</td>\n",
              "      <td>0.713994</td>\n",
              "    </tr>\n",
              "    <tr>\n",
              "      <th>428</th>\n",
              "      <td>Boston Celtics</td>\n",
              "      <td>2010-11</td>\n",
              "      <td>0</td>\n",
              "      <td>0.707664</td>\n",
              "    </tr>\n",
              "  </tbody>\n",
              "</table>\n",
              "</div>\n",
              "      <button class=\"colab-df-convert\" onclick=\"convertToInteractive('df-3153575e-4603-4d9a-afa0-b84518552bca')\"\n",
              "              title=\"Convert this dataframe to an interactive table.\"\n",
              "              style=\"display:none;\">\n",
              "        \n",
              "  <svg xmlns=\"http://www.w3.org/2000/svg\" height=\"24px\"viewBox=\"0 0 24 24\"\n",
              "       width=\"24px\">\n",
              "    <path d=\"M0 0h24v24H0V0z\" fill=\"none\"/>\n",
              "    <path d=\"M18.56 5.44l.94 2.06.94-2.06 2.06-.94-2.06-.94-.94-2.06-.94 2.06-2.06.94zm-11 1L8.5 8.5l.94-2.06 2.06-.94-2.06-.94L8.5 2.5l-.94 2.06-2.06.94zm10 10l.94 2.06.94-2.06 2.06-.94-2.06-.94-.94-2.06-.94 2.06-2.06.94z\"/><path d=\"M17.41 7.96l-1.37-1.37c-.4-.4-.92-.59-1.43-.59-.52 0-1.04.2-1.43.59L10.3 9.45l-7.72 7.72c-.78.78-.78 2.05 0 2.83L4 21.41c.39.39.9.59 1.41.59.51 0 1.02-.2 1.41-.59l7.78-7.78 2.81-2.81c.8-.78.8-2.07 0-2.86zM5.41 20L4 18.59l7.72-7.72 1.47 1.35L5.41 20z\"/>\n",
              "  </svg>\n",
              "      </button>\n",
              "      \n",
              "  <style>\n",
              "    .colab-df-container {\n",
              "      display:flex;\n",
              "      flex-wrap:wrap;\n",
              "      gap: 12px;\n",
              "    }\n",
              "\n",
              "    .colab-df-convert {\n",
              "      background-color: #E8F0FE;\n",
              "      border: none;\n",
              "      border-radius: 50%;\n",
              "      cursor: pointer;\n",
              "      display: none;\n",
              "      fill: #1967D2;\n",
              "      height: 32px;\n",
              "      padding: 0 0 0 0;\n",
              "      width: 32px;\n",
              "    }\n",
              "\n",
              "    .colab-df-convert:hover {\n",
              "      background-color: #E2EBFA;\n",
              "      box-shadow: 0px 1px 2px rgba(60, 64, 67, 0.3), 0px 1px 3px 1px rgba(60, 64, 67, 0.15);\n",
              "      fill: #174EA6;\n",
              "    }\n",
              "\n",
              "    [theme=dark] .colab-df-convert {\n",
              "      background-color: #3B4455;\n",
              "      fill: #D2E3FC;\n",
              "    }\n",
              "\n",
              "    [theme=dark] .colab-df-convert:hover {\n",
              "      background-color: #434B5C;\n",
              "      box-shadow: 0px 1px 3px 1px rgba(0, 0, 0, 0.15);\n",
              "      filter: drop-shadow(0px 1px 2px rgba(0, 0, 0, 0.3));\n",
              "      fill: #FFFFFF;\n",
              "    }\n",
              "  </style>\n",
              "\n",
              "      <script>\n",
              "        const buttonEl =\n",
              "          document.querySelector('#df-3153575e-4603-4d9a-afa0-b84518552bca button.colab-df-convert');\n",
              "        buttonEl.style.display =\n",
              "          google.colab.kernel.accessAllowed ? 'block' : 'none';\n",
              "\n",
              "        async function convertToInteractive(key) {\n",
              "          const element = document.querySelector('#df-3153575e-4603-4d9a-afa0-b84518552bca');\n",
              "          const dataTable =\n",
              "            await google.colab.kernel.invokeFunction('convertToInteractive',\n",
              "                                                     [key], {});\n",
              "          if (!dataTable) return;\n",
              "\n",
              "          const docLinkHtml = 'Like what you see? Visit the ' +\n",
              "            '<a target=\"_blank\" href=https://colab.research.google.com/notebooks/data_table.ipynb>data table notebook</a>'\n",
              "            + ' to learn more about interactive tables.';\n",
              "          element.innerHTML = '';\n",
              "          dataTable['output_type'] = 'display_data';\n",
              "          await google.colab.output.renderOutput(dataTable, element);\n",
              "          const docLink = document.createElement('div');\n",
              "          docLink.innerHTML = docLinkHtml;\n",
              "          element.appendChild(docLink);\n",
              "        }\n",
              "      </script>\n",
              "    </div>\n",
              "  </div>\n",
              "  "
            ]
          },
          "metadata": {},
          "execution_count": 46
        }
      ]
    },
    {
      "cell_type": "code",
      "source": [],
      "metadata": {
        "id": "PZBIaBBk8M-V"
      },
      "execution_count": null,
      "outputs": []
    }
  ]
}